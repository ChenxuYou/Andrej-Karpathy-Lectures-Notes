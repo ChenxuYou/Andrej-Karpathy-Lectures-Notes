{
 "cells": [
  {
   "cell_type": "code",
   "execution_count": 1,
   "metadata": {},
   "outputs": [
    {
     "name": "stdout",
     "output_type": "stream",
     "text": [
      "length of dataset in characters: 1115394\n",
      "First Citizen:\n",
      "Before we proceed any further, hear me speak.\n",
      "\n",
      "All:\n",
      "Speak, speak.\n",
      "\n",
      "First Citizen:\n",
      "You are all resolved rather to die than to famish?\n",
      "\n",
      "All:\n",
      "Resolved. resolved.\n",
      "\n",
      "First Citizen:\n",
      "First, you know Caius Marcius is chief enemy to the people.\n",
      "\n",
      "All:\n",
      "We know't, we know't.\n",
      "\n",
      "First Citizen:\n",
      "Let us kill him, and we'll have corn at our own price.\n",
      "Is't a verdict?\n",
      "\n",
      "All:\n",
      "No more talking on't; let it be done: away, away!\n",
      "\n",
      "Second Citizen:\n",
      "One word, good citizens.\n",
      "\n",
      "First Citizen:\n",
      "We are accounted poor\n"
     ]
    }
   ],
   "source": [
    "with open('input.txt', 'r', encoding='utf-8') as f:\n",
    "    text = f.read()\n",
    "\n",
    "print(\"length of dataset in characters:\", len(text))\n",
    "print(text[:500])"
   ]
  },
  {
   "cell_type": "code",
   "execution_count": 2,
   "metadata": {},
   "outputs": [
    {
     "name": "stdout",
     "output_type": "stream",
     "text": [
      "\n",
      " !$&',-.3:;?ABCDEFGHIJKLMNOPQRSTUVWXYZabcdefghijklmnopqrstuvwxyz\n",
      "65\n",
      "[46, 47, 47, 1, 58, 46, 43, 56, 43]\n",
      "hii there\n"
     ]
    }
   ],
   "source": [
    "chars = sorted(set(text))\n",
    "vocab_size = len(chars)\n",
    "print(''.join(chars))\n",
    "print(vocab_size)\n",
    "stoi = {ch: i for i, ch in enumerate(chars)}\n",
    "itos = {i: ch for ch, i in stoi.items()}\n",
    "def encode(s): return [stoi[ch] for ch in s]\n",
    "def decode(l): return ''.join([itos[i] for i in l])\n",
    "print(encode('hii there'))\n",
    "print(decode(encode('hii there')))"
   ]
  },
  {
   "cell_type": "code",
   "execution_count": 3,
   "metadata": {},
   "outputs": [
    {
     "name": "stdout",
     "output_type": "stream",
     "text": [
      "torch.Size([1115394]) torch.int64\n",
      "tensor([18, 47, 56, 57, 58,  1, 15, 47, 58, 47, 64, 43, 52, 10,  0, 14, 43, 44,\n",
      "        53, 56, 43,  1, 61, 43,  1, 54, 56, 53, 41, 43, 43, 42,  1, 39, 52, 63,\n",
      "         1, 44, 59, 56, 58, 46, 43, 56,  6,  1, 46, 43, 39, 56])\n"
     ]
    }
   ],
   "source": [
    "import torch\n",
    "data = torch.tensor(encode(text), dtype=torch.long)\n",
    "print(data.shape, data.dtype)\n",
    "print(data[:50])"
   ]
  },
  {
   "cell_type": "code",
   "execution_count": 4,
   "metadata": {},
   "outputs": [],
   "source": [
    "segmentation_ratio = 0.9\n",
    "n = int(segmentation_ratio * len(data))\n",
    "train_data = data[:n]\n",
    "val_data = data[n:]"
   ]
  },
  {
   "cell_type": "code",
   "execution_count": 5,
   "metadata": {},
   "outputs": [
    {
     "name": "stdout",
     "output_type": "stream",
     "text": [
      "inputs:\n",
      "torch.Size([4, 8])\n",
      "tensor([[24, 43, 58,  5, 57,  1, 46, 43],\n",
      "        [44, 53, 56,  1, 58, 46, 39, 58],\n",
      "        [52, 58,  1, 58, 46, 39, 58,  1],\n",
      "        [25, 17, 27, 10,  0, 21,  1, 54]])\n",
      "targets:\n",
      "torch.Size([4, 8])\n",
      "tensor([[43, 58,  5, 57,  1, 46, 43, 39],\n",
      "        [53, 56,  1, 58, 46, 39, 58,  1],\n",
      "        [58,  1, 58, 46, 39, 58,  1, 46],\n",
      "        [17, 27, 10,  0, 21,  1, 54, 39]])\n",
      "------\n",
      "when context is [24] target is 43\n",
      "when context is [24, 43] target is 58\n",
      "when context is [24, 43, 58] target is 5\n",
      "when context is [24, 43, 58, 5] target is 57\n",
      "when context is [24, 43, 58, 5, 57] target is 1\n",
      "when context is [24, 43, 58, 5, 57, 1] target is 46\n",
      "when context is [24, 43, 58, 5, 57, 1, 46] target is 43\n",
      "when context is [24, 43, 58, 5, 57, 1, 46, 43] target is 39\n",
      "when context is [44] target is 53\n",
      "when context is [44, 53] target is 56\n",
      "when context is [44, 53, 56] target is 1\n",
      "when context is [44, 53, 56, 1] target is 58\n",
      "when context is [44, 53, 56, 1, 58] target is 46\n",
      "when context is [44, 53, 56, 1, 58, 46] target is 39\n",
      "when context is [44, 53, 56, 1, 58, 46, 39] target is 58\n",
      "when context is [44, 53, 56, 1, 58, 46, 39, 58] target is 1\n",
      "when context is [52] target is 58\n",
      "when context is [52, 58] target is 1\n",
      "when context is [52, 58, 1] target is 58\n",
      "when context is [52, 58, 1, 58] target is 46\n",
      "when context is [52, 58, 1, 58, 46] target is 39\n",
      "when context is [52, 58, 1, 58, 46, 39] target is 58\n",
      "when context is [52, 58, 1, 58, 46, 39, 58] target is 1\n",
      "when context is [52, 58, 1, 58, 46, 39, 58, 1] target is 46\n",
      "when context is [25] target is 17\n",
      "when context is [25, 17] target is 27\n",
      "when context is [25, 17, 27] target is 10\n",
      "when context is [25, 17, 27, 10] target is 0\n",
      "when context is [25, 17, 27, 10, 0] target is 21\n",
      "when context is [25, 17, 27, 10, 0, 21] target is 1\n",
      "when context is [25, 17, 27, 10, 0, 21, 1] target is 54\n",
      "when context is [25, 17, 27, 10, 0, 21, 1, 54] target is 39\n"
     ]
    }
   ],
   "source": [
    "torch.manual_seed(1337)\n",
    "batch_size = 4\n",
    "block_size = 8\n",
    "\n",
    "\n",
    "def get_batch(split):\n",
    "    data = train_data if split == 'train' else val_data\n",
    "    ix = torch.randint(len(data) - block_size, (batch_size,))\n",
    "    x = torch.stack([data[i: i+block_size] for i in ix])\n",
    "    y = torch.stack([data[i+1: i+block_size+1] for i in ix])\n",
    "    return x, y\n",
    "\n",
    "\n",
    "xb, yb = get_batch('train')\n",
    "print('inputs:')\n",
    "print(xb.shape)\n",
    "print(xb)\n",
    "print('targets:')\n",
    "print(yb.shape)\n",
    "print(yb)\n",
    "print('------')\n",
    "\n",
    "for b in range(batch_size):\n",
    "    for t in range(block_size):\n",
    "        context = xb[b, :t+1]\n",
    "        target = yb[b, t]\n",
    "        print(f'when context is {context.tolist()} target is {target}')"
   ]
  },
  {
   "cell_type": "code",
   "execution_count": 6,
   "metadata": {},
   "outputs": [
    {
     "name": "stdout",
     "output_type": "stream",
     "text": [
      "torch.Size([32, 65])\n",
      "tensor(4.8786, grad_fn=<NllLossBackward0>)\n",
      "\n",
      "\n",
      "Sr?qP-QWkt\n",
      "\n",
      "\n",
      "pfqoioCp$N\n",
      "\n",
      "\n",
      "R:aeOvERms\n"
     ]
    }
   ],
   "source": [
    "import torch\n",
    "import torch.nn as nn\n",
    "from torch.nn import functional as F\n",
    "torch.manual_seed(1337)\n",
    "\n",
    "\n",
    "class BigramLanguageModel(nn.Module):\n",
    "\n",
    "    def __init__(self, vocab_size):\n",
    "        super().__init__()\n",
    "        self.token_embedding_table = nn.Embedding(vocab_size, vocab_size)\n",
    "\n",
    "    def forward(self, indices, targets=None):\n",
    "        # Get some indices, embed them into a tensor\n",
    "        # with the shape (indices.shape, vocab_size), and return the result\n",
    "        logits = self.token_embedding_table(indices)\n",
    "        if targets is None:\n",
    "            loss = None\n",
    "        else:\n",
    "            B, T, C = logits.shape\n",
    "            logits = logits.view(B*T, C)\n",
    "            targets = targets.view(-1)\n",
    "            loss = F.cross_entropy(logits, targets)\n",
    "        return logits, loss\n",
    "\n",
    "    def generate(self, idx, max_new_tokens):\n",
    "        # Get an index with the shape (batch, dimension)\n",
    "        for _ in range(max_new_tokens):\n",
    "            # Calculate the logits with a shape of (batch, dimension, vocab_size), retain only the last dimension (because of 'BIGRAM'!), and use it to determine the next index\n",
    "            logits, loss = self(idx)\n",
    "            logits = logits[:, -1, :]  # becomes (batch, vocab_size)\n",
    "            probs = F.softmax(logits, dim=1)  # (batch, vocab_size)\n",
    "            idx_next = torch.multinomial(probs, num_samples=1)  # (batch, 1)\n",
    "            idx = torch.cat((idx, idx_next), dim=1)  # (batch, dimension+1)\n",
    "        return idx\n",
    "\n",
    "\n",
    "m = BigramLanguageModel(vocab_size)\n",
    "logits, loss = m(xb, yb)\n",
    "print(logits.shape)\n",
    "print(loss)\n",
    "print(decode(m.generate(idx=torch.zeros(\n",
    "    (3, 2), dtype=torch.long), max_new_tokens=10)[0].tolist()))\n",
    "print(decode(m.generate(idx=torch.zeros(\n",
    "    (3, 2), dtype=torch.long), max_new_tokens=10)[1].tolist()))\n",
    "print(decode(m.generate(idx=torch.zeros(\n",
    "    (3, 2), dtype=torch.long), max_new_tokens=10)[2].tolist()))"
   ]
  },
  {
   "cell_type": "code",
   "execution_count": 7,
   "metadata": {},
   "outputs": [],
   "source": [
    "optimizer = torch.optim.AdamW(m.parameters(), lr=1e-3)"
   ]
  },
  {
   "cell_type": "code",
   "execution_count": 8,
   "metadata": {},
   "outputs": [
    {
     "name": "stdout",
     "output_type": "stream",
     "text": [
      "2.4607205390930176\n"
     ]
    }
   ],
   "source": [
    "batch_size = 32\n",
    "\n",
    "for steps in range(10000):\n",
    "\n",
    "    xb, yb = get_batch('train')\n",
    "    logits, loss = m(xb, yb)\n",
    "    optimizer.zero_grad(set_to_none=True)\n",
    "    loss.backward()\n",
    "    optimizer.step()\n",
    "\n",
    "print(loss.item())"
   ]
  },
  {
   "cell_type": "code",
   "execution_count": 9,
   "metadata": {},
   "outputs": [],
   "source": [
    "# 2.4607205390930176"
   ]
  },
  {
   "cell_type": "code",
   "execution_count": 10,
   "metadata": {},
   "outputs": [
    {
     "name": "stdout",
     "output_type": "stream",
     "text": [
      "\n",
      "TIUEd ce w illd CHAL, mer thoun s's:Conchuntilalllevise sthat dy hangilyoteng h hasbe pave pirance\n",
      "Rie hicomyonthar's\n",
      "Plinseard ith henoure wounonthioneir thondy, y heltieiengerofo'dsssit ey\n",
      "KIN d pe wither vouprrouthercc.\n",
      "hathe; d!\n",
      "My hind tt hinig t ouchos tes; st yo hind wotte grotonear 'so it t jod weancotha:\n",
      "h hay.JUCle n prids, r loncave w hollular s O:\n",
      "HIs; ht anjx?\n",
      "\n",
      "DUThinqunt.\n",
      "\n",
      "LaZAnde.\n",
      "a\n"
     ]
    }
   ],
   "source": [
    "print(decode(m.generate(idx=torch.zeros(\n",
    "    (1, 1), dtype=torch.long), max_new_tokens=400)[0].tolist()))"
   ]
  },
  {
   "cell_type": "code",
   "execution_count": 11,
   "metadata": {},
   "outputs": [],
   "source": [
    "#\n",
    "# TIUEd ce w illd CHAL, mer thoun s's:Conchuntilalllevise sthat dy hangilyoteng h hasbe pave pirance\n",
    "# Rie hicomyonthar's\n",
    "# Plinseard ith henoure wounonthioneir thondy, y heltieiengerofo'dsssit ey\n",
    "# KIN d pe wither vouprrouthercc.\n",
    "# hathe; d!\n",
    "# My hind tt hinig t ouchos tes; st yo hind wotte grotonear 'so it t jod weancotha:\n",
    "# h hay.JUCle n prids, r loncave w hollular s O:\n",
    "# HIs; ht anjx?\n",
    "\n",
    "# DUThinqunt.\n",
    "\n",
    "# LaZAnde.\n",
    "# a"
   ]
  }
 ],
 "metadata": {
  "kernelspec": {
   "display_name": "pydata-book",
   "language": "python",
   "name": "python3"
  },
  "language_info": {
   "codemirror_mode": {
    "name": "ipython",
    "version": 3
   },
   "file_extension": ".py",
   "mimetype": "text/x-python",
   "name": "python",
   "nbconvert_exporter": "python",
   "pygments_lexer": "ipython3",
   "version": "3.10.16"
  }
 },
 "nbformat": 4,
 "nbformat_minor": 2
}
