{
 "cells": [
  {
   "cell_type": "code",
   "execution_count": 1,
   "metadata": {},
   "outputs": [
    {
     "name": "stdout",
     "output_type": "stream",
     "text": [
      "6.336362190988558\n"
     ]
    }
   ],
   "source": [
    "# here is a mathematical expression that takes 3 inputs and produces one output\n",
    "from math import sin, cos\n",
    "\n",
    "\n",
    "def f(a, b, c):\n",
    "    return -a**3 + sin(3*b) - 1.0/c + b**2.5 - a**0.5\n",
    "\n",
    "\n",
    "print(f(2, 3, 4))"
   ]
  },
  {
   "cell_type": "code",
   "execution_count": 2,
   "metadata": {},
   "outputs": [
    {
     "name": "stdout",
     "output_type": "stream",
     "text": [
      "OK for dim 0: expected -12.353553390593273, yours returns -12.353553390593273\n",
      "OK for dim 1: expected 10.25699027111255, yours returns 10.25699027111255\n",
      "OK for dim 2: expected 0.0625, yours returns 0.0625\n"
     ]
    }
   ],
   "source": [
    "# write the function df that returns the analytical gradient of f\n",
    "# i.e. use your skills from calculus to take the derivative, then implement the formula\n",
    "# if you do not calculus then feel free to ask wolframalpha, e.g.:\n",
    "# https://www.wolframalpha.com/input?i=d%2Fda%28sin%283*a%29%29%29\n",
    "\n",
    "def gradf(a, b, c):\n",
    "    dfda = -3*a**2 - 0.5*a**-0.5\n",
    "    dfdb = 3*cos(3*b) + 2.5*b**1.5\n",
    "    dfdc = 1.0*c**-2\n",
    "    return [dfda, dfdb, dfdc]\n",
    "\n",
    "\n",
    "# expected answer is the list of\n",
    "ans = [-12.353553390593273, 10.25699027111255, 0.0625]\n",
    "yours = gradf(2, 3, 4)\n",
    "for dim in range(3):\n",
    "    ok = 'OK' if abs(yours[dim] - ans[dim]) < 1e-5 else 'WRONG!'\n",
    "    print(\n",
    "        f\"{ok} for dim {dim}: expected {ans[dim]}, yours returns {yours[dim]}\")"
   ]
  },
  {
   "cell_type": "code",
   "execution_count": 3,
   "metadata": {},
   "outputs": [
    {
     "name": "stdout",
     "output_type": "stream",
     "text": [
      "OK for dim 0: expected -12.353553390593273, yours returns -12.353559348809995\n",
      "OK for dim 1: expected 10.25699027111255, yours returns 10.256991666679482\n",
      "OK for dim 2: expected 0.0625, yours returns 0.062499984743169534\n"
     ]
    }
   ],
   "source": [
    "# now estimate the gradient numerically without any calculus, using\n",
    "# the approximation we used in the video.\n",
    "# you should not call the function df from the last cell\n",
    "\n",
    "a, b, c = [2, 3, 4]\n",
    "delta = 0.000001\n",
    "\n",
    "dfda2 = (f(a+delta, b, c) - f(a, b, c))/delta\n",
    "dfdb2 = (f(a, b+delta, c) - f(a, b, c))/delta\n",
    "dfdc2 = (f(a, b, c+delta) - f(a, b, c))/delta\n",
    "numerical_grad = [dfda2, dfdb2, dfdc2]\n",
    "\n",
    "\n",
    "for dim in range(3):\n",
    "    ok = 'OK' if abs(numerical_grad[dim] - ans[dim]) < 1e-5 else 'WRONG!'\n",
    "    print(\n",
    "        f\"{ok} for dim {dim}: expected {ans[dim]}, yours returns {numerical_grad[dim]}\")"
   ]
  },
  {
   "cell_type": "code",
   "execution_count": 4,
   "metadata": {},
   "outputs": [
    {
     "name": "stdout",
     "output_type": "stream",
     "text": [
      "OK for dim 0: expected -12.353553390593273, yours returns -12.353553391353245\n",
      "OK for dim 1: expected 10.25699027111255, yours returns 10.25699027401572\n",
      "OK for dim 2: expected 0.0625, yours returns 0.06250000028629188\n",
      "-12.353559348809995, -12.353553391353245\n",
      "The latter method is more precise.\n",
      "10.256991666679482, 10.25699027401572\n",
      "The latter method is more precise.\n",
      "0.062499984743169534, 0.06250000028629188\n",
      "The latter method is more precise.\n"
     ]
    }
   ],
   "source": [
    "# there is an alternative formula that provides a much better numerical\n",
    "# approximation to the derivative of a function.\n",
    "# learn about it here: https://en.wikipedia.org/wiki/Symmetric_derivative\n",
    "# implement it. confirm that for the same step size h this version gives a\n",
    "# better approximation.\n",
    "\n",
    "a, b, c = [2, 3, 4]\n",
    "delta = 0.000001\n",
    "\n",
    "dfda3 = (f(a+delta, b, c) - f(a-delta, b, c))/(2*delta)\n",
    "dfdb3 = (f(a, b+delta, c) - f(a, b-delta, c))/(2*delta)\n",
    "dfdc3 = (f(a, b, c+delta) - f(a, b, c-delta))/(2*delta)\n",
    "numerical_grad2 = [dfda3, dfdb3, dfdc3]\n",
    "\n",
    "\n",
    "for dim in range(3):\n",
    "    ok = 'OK' if abs(numerical_grad2[dim] - ans[dim]) < 1e-5 else 'WRONG!'\n",
    "    print(\n",
    "        f\"{ok} for dim {dim}: expected {ans[dim]}, yours returns {numerical_grad2[dim]}\")\n",
    "\n",
    "\n",
    "for ng, ng_2, a in zip(numerical_grad, numerical_grad2, ans):\n",
    "    diff1 = ng - a\n",
    "    diff2 = ng_2 - a\n",
    "    print(f\"{ng}, {ng_2}\")\n",
    "    if abs(diff1) > abs(diff2):\n",
    "        print(\"The latter method is more precise.\")"
   ]
  },
  {
   "cell_type": "code",
   "execution_count": 5,
   "metadata": {},
   "outputs": [],
   "source": [
    "# Value class starter code, with many functions taken out\n",
    "import math\n",
    "\n",
    "\n",
    "class Value:\n",
    "\n",
    "    def __init__(self, data, _children=(), _op='', label=''):\n",
    "        self.data = data\n",
    "        self.grad = 0.0\n",
    "        self._backward = lambda: None\n",
    "        self._prev = set(_children)\n",
    "        self._op = _op\n",
    "        self.label = label\n",
    "\n",
    "    def __repr__(self):\n",
    "        return f\"Value(data={self.data})\"\n",
    "\n",
    "    def __add__(self, other):  # exactly as in the video\n",
    "        other = other if isinstance(other, Value) else Value(other)\n",
    "        out = Value(self.data + other.data, (self, other), '+')\n",
    "\n",
    "        def _backward():\n",
    "            self.grad += 1.0 * out.grad\n",
    "            other.grad += 1.0 * out.grad\n",
    "        out._backward = _backward\n",
    "\n",
    "        return out\n",
    "\n",
    "    # ------\n",
    "    # re-implement all the other functions needed for the exercises below\n",
    "    # your code here\n",
    "    def __mul__(self, other):\n",
    "        other = other if isinstance(other, Value) else Value(other)\n",
    "        out = Value(self.data * other.data, (self, other), '*')\n",
    "\n",
    "        def _backward():\n",
    "            self.grad += out.grad * other.data\n",
    "            other.grad += out.grad * self.data\n",
    "        out._backward = _backward\n",
    "\n",
    "        return out\n",
    "\n",
    "    def __pow__(self, exponent):\n",
    "        out = Value(self.data ** exponent, (self, ), f'**{exponent}')\n",
    "\n",
    "        def _backward():\n",
    "            self.grad += out.grad * (exponent * self.data ** (exponent - 1))\n",
    "        out._backward = _backward\n",
    "\n",
    "        return out\n",
    "\n",
    "    def __neg__(self):\n",
    "        return self * -1\n",
    "\n",
    "    def __sub__(self, other):\n",
    "        return self + (-other)\n",
    "\n",
    "    def __truediv__(self, other):\n",
    "        return self * other**-1\n",
    "\n",
    "    def __radd__(self, other):\n",
    "        return self + other\n",
    "\n",
    "    def __rsub__(self, other):\n",
    "        return (-self) + other\n",
    "\n",
    "    def exp(self):\n",
    "        out = Value(math.exp(self.data), (self, ), 'exp')\n",
    "\n",
    "        def _backward():\n",
    "            self.grad += out.grad * out.data\n",
    "        out._backward = _backward\n",
    "\n",
    "        return out\n",
    "\n",
    "    def log(self):\n",
    "        out = Value(math.log(self.data), (self, ), 'log')\n",
    "\n",
    "        def _backward():\n",
    "            self.grad += out.grad * self.data**-1\n",
    "        out._backward = _backward\n",
    "\n",
    "        return out\n",
    "    # ------\n",
    "\n",
    "    def backward(self):  # exactly as in video\n",
    "        topo = []\n",
    "        visited = set()\n",
    "\n",
    "        def build_topo(v):\n",
    "            if v not in visited:\n",
    "                visited.add(v)\n",
    "                for child in v._prev:\n",
    "                    build_topo(child)\n",
    "                topo.append(v)\n",
    "        build_topo(self)\n",
    "\n",
    "        self.grad = 1.0\n",
    "        for node in reversed(topo):\n",
    "            node._backward()"
   ]
  },
  {
   "cell_type": "code",
   "execution_count": 6,
   "metadata": {},
   "outputs": [
    {
     "name": "stdout",
     "output_type": "stream",
     "text": [
      "2.1755153626167147\n",
      "OK for dim 0: expected 0.041772570515350445, yours returns 0.041772570515350445\n",
      "OK for dim 1: expected 0.8390245074625319, yours returns 0.8390245074625319\n",
      "OK for dim 2: expected 0.005653302662216329, yours returns 0.005653302662216329\n",
      "OK for dim 3: expected -0.8864503806400986, yours returns -0.8864503806400986\n"
     ]
    }
   ],
   "source": [
    "# without referencing our code/video __too__ much, make this cell work\n",
    "# you'll have to implement (in some cases re-implemented) a number of functions\n",
    "# of the Value object, similar to what we've seen in the video.\n",
    "# instead of the squared error loss this implements the negative log likelihood\n",
    "# loss, which is very often used in classification.\n",
    "\n",
    "# this is the softmax function\n",
    "# https://en.wikipedia.org/wiki/Softmax_function\n",
    "def softmax(logits):\n",
    "    counts = [logit.exp() for logit in logits]\n",
    "    denominator = sum(counts)\n",
    "    out = [c / denominator for c in counts]\n",
    "    return out\n",
    "\n",
    "\n",
    "# this is the negative log likelihood loss function, pervasive in classification\n",
    "logits = [Value(0.0), Value(3.0), Value(-2.0), Value(1.0)]\n",
    "probs = softmax(logits)\n",
    "loss = -probs[3].log()  # dim 3 acts as the label for this input example\n",
    "loss.backward()\n",
    "print(loss.data)\n",
    "\n",
    "ans = [0.041772570515350445, 0.8390245074625319,\n",
    "       0.005653302662216329, -0.8864503806400986]\n",
    "for dim in range(4):\n",
    "    ok = 'OK' if abs(logits[dim].grad - ans[dim]) < 1e-5 else 'WRONG!'\n",
    "    print(\n",
    "        f\"{ok} for dim {dim}: expected {ans[dim]}, yours returns {logits[dim].grad}\")"
   ]
  },
  {
   "cell_type": "code",
   "execution_count": 7,
   "metadata": {},
   "outputs": [
    {
     "name": "stdout",
     "output_type": "stream",
     "text": [
      "2.1755154132843018\n",
      "[0.041772566735744476, 0.8390244841575623, 0.005653302650898695, -0.8864504098892212]\n"
     ]
    }
   ],
   "source": [
    "# verify the gradient using the torch library\n",
    "# torch should give you the exact same gradient\n",
    "import torch\n",
    "import torch.nn.functional as F\n",
    "\n",
    "logits1 = torch.tensor([0.0, 3.0, -2.0, 1.0], requires_grad = True)\n",
    "probs1 = F.softmax(logits1, dim=0)\n",
    "loss1 = -probs1[3].log()\n",
    "loss1.backward()\n",
    "print(loss1.item())\n",
    "print(logits1.grad.tolist())"
   ]
  }
 ],
 "metadata": {
  "kernelspec": {
   "display_name": "pydata-book",
   "language": "python",
   "name": "python3"
  },
  "language_info": {
   "codemirror_mode": {
    "name": "ipython",
    "version": 3
   },
   "file_extension": ".py",
   "mimetype": "text/x-python",
   "name": "python",
   "nbconvert_exporter": "python",
   "pygments_lexer": "ipython3",
   "version": "3.10.14"
  }
 },
 "nbformat": 4,
 "nbformat_minor": 2
}
